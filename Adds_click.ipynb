{
  "nbformat": 4,
  "nbformat_minor": 0,
  "metadata": {
    "colab": {
      "name": "Adds_click.ipynb",
      "version": "0.3.2",
      "provenance": []
    },
    "kernelspec": {
      "name": "python3",
      "display_name": "Python 3"
    }
  },
  "cells": [
    {
      "cell_type": "code",
      "metadata": {
        "id": "YlvJoq2c-pJB",
        "colab_type": "code",
        "outputId": "e8739460-e616-4a8e-f7bc-e1a9ff3ba13c",
        "colab": {
          "base_uri": "https://localhost:8080/",
          "height": 955
        }
      },
      "source": [
        "ccccccccccccccccccccccccccccccccccccccccccferrrrrrrrrrrrrrrrrrrrrrrrrrrrrrrrrrrrrrrrrrrrrrrrrrrrrrrrrrrrrrrrrrrrrrrrrrrrrrrrrrrrrrrrr!cat /proc/cpuinfo"
      ],
      "execution_count": 0,
      "outputs": [
        {
          "output_type": "stream",
          "text": [
            "processor\t: 0\n",
            "vendor_id\t: GenuineIntel\n",
            "cpu family\t: 6\n",
            "model\t\t: 63\n",
            "model name\t: Intel(R) Xeon(R) CPU @ 2.30GHz\n",
            "stepping\t: 0\n",
            "microcode\t: 0x1\n",
            "cpu MHz\t\t: 2300.000\n",
            "cache size\t: 46080 KB\n",
            "physical id\t: 0\n",
            "siblings\t: 2\n",
            "core id\t\t: 0\n",
            "cpu cores\t: 1\n",
            "apicid\t\t: 0\n",
            "initial apicid\t: 0\n",
            "fpu\t\t: yes\n",
            "fpu_exception\t: yes\n",
            "cpuid level\t: 13\n",
            "wp\t\t: yes\n",
            "flags\t\t: fpu vme de pse tsc msr pae mce cx8 apic sep mtrr pge mca cmov pat pse36 clflush mmx fxsr sse sse2 ss ht syscall nx pdpe1gb rdtscp lm constant_tsc rep_good nopl xtopology nonstop_tsc cpuid tsc_known_freq pni pclmulqdq ssse3 fma cx16 pcid sse4_1 sse4_2 x2apic movbe popcnt aes xsave avx f16c rdrand hypervisor lahf_lm abm invpcid_single pti ssbd ibrs ibpb stibp fsgsbase tsc_adjust bmi1 avx2 smep bmi2 erms invpcid xsaveopt arat arch_capabilities\n",
            "bugs\t\t: cpu_meltdown spectre_v1 spectre_v2 spec_store_bypass l1tf\n",
            "bogomips\t: 4600.00\n",
            "clflush size\t: 64\n",
            "cache_alignment\t: 64\n",
            "address sizes\t: 46 bits physical, 48 bits virtual\n",
            "power management:\n",
            "\n",
            "processor\t: 1\n",
            "vendor_id\t: GenuineIntel\n",
            "cpu family\t: 6\n",
            "model\t\t: 63\n",
            "model name\t: Intel(R) Xeon(R) CPU @ 2.30GHz\n",
            "stepping\t: 0\n",
            "microcode\t: 0x1\n",
            "cpu MHz\t\t: 2300.000\n",
            "cache size\t: 46080 KB\n",
            "physical id\t: 0\n",
            "siblings\t: 2\n",
            "core id\t\t: 0\n",
            "cpu cores\t: 1\n",
            "apicid\t\t: 1\n",
            "initial apicid\t: 1\n",
            "fpu\t\t: yes\n",
            "fpu_exception\t: yes\n",
            "cpuid level\t: 13\n",
            "wp\t\t: yes\n",
            "flags\t\t: fpu vme de pse tsc msr pae mce cx8 apic sep mtrr pge mca cmov pat pse36 clflush mmx fxsr sse sse2 ss ht syscall nx pdpe1gb rdtscp lm constant_tsc rep_good nopl xtopology nonstop_tsc cpuid tsc_known_freq pni pclmulqdq ssse3 fma cx16 pcid sse4_1 sse4_2 x2apic movbe popcnt aes xsave avx f16c rdrand hypervisor lahf_lm abm invpcid_single pti ssbd ibrs ibpb stibp fsgsbase tsc_adjust bmi1 avx2 smep bmi2 erms invpcid xsaveopt arat arch_capabilities\n",
            "bugs\t\t: cpu_meltdown spectre_v1 spectre_v2 spec_store_bypass l1tf\n",
            "bogomips\t: 4600.00\n",
            "clflush size\t: 64\n",
            "cache_alignment\t: 64\n",
            "address sizes\t: 46 bits physical, 48 bits virtual\n",
            "power management:\n",
            "\n"
          ],
          "name": "stdout"
        }
      ]
    },
    {
      "cell_type": "code",
      "metadata": {
        "id": "O3xVJukA-tiB",
        "colab_type": "code",
        "colab": {}
      },
      "source": [
        "from google.colab import files, drive"
      ],
      "execution_count": 0,
      "outputs": []
    },
    {
      "cell_type": "code",
      "metadata": {
        "id": "7Ib2v2eQ-y5T",
        "colab_type": "code",
        "outputId": "d7cc0c46-9c99-4b3b-8682-f1e145594399",
        "colab": {
          "base_uri": "https://localhost:8080/",
          "height": 34
        }
      },
      "source": [
        "drive.mount('gdrive', force_remount=True)"
      ],
      "execution_count": 0,
      "outputs": [
        {
          "output_type": "stream",
          "text": [
            "Mounted at gdrive\n"
          ],
          "name": "stdout"
        }
      ]
    },
    {
      "cell_type": "code",
      "metadata": {
        "id": "_o6fvg-s-0rp",
        "colab_type": "code",
        "colab": {}
      },
      "source": [
        "!cp 'gdrive/My Drive/ad_clicks.zip' ."
      ],
      "execution_count": 0,
      "outputs": []
    },
    {
      "cell_type": "code",
      "metadata": {
        "id": "zwwotrat_GPC",
        "colab_type": "code",
        "outputId": "3dc18336-3ef7-47b6-de45-03aed47485ea",
        "colab": {
          "base_uri": "https://localhost:8080/",
          "height": 204
        }
      },
      "source": [
        "!unzip ad_clicks.zip"
      ],
      "execution_count": 0,
      "outputs": [
        {
          "output_type": "stream",
          "text": [
            "Archive:  ad_clicks.zip\n",
            "replace sample_submission.csv? [y]es, [n]o, [A]ll, [N]one, [r]ename: y\n",
            "  inflating: sample_submission.csv   \n",
            "replace test.csv? [y]es, [n]o, [A]ll, [N]one, [r]ename: y\n",
            "  inflating: test.csv                y\n",
            "\n",
            "replace train.csv? [y]es, [n]o, [A]ll, [N]one, [r]ename:   inflating: train.csv               y\n",
            "y\n",
            "y\n",
            "y\n",
            "\n"
          ],
          "name": "stdout"
        }
      ]
    },
    {
      "cell_type": "code",
      "metadata": {
        "id": "jeD8z5OE_JoC",
        "colab_type": "code",
        "colab": {}
      },
      "source": [
        "import pandas as pd\n",
        "import numpy as np\n",
        "import matplotlib.pyplot as plt\n",
        "import seaborn as sns\n",
        "%matplotlib inline\n",
        "from sklearn.model_selection import train_test_split\n",
        "from sklearn.linear_model import LogisticRegression\n",
        "from sklearn.feature_selection import RFE\n",
        "from sklearn.linear_model import RidgeCV, LassoCV, Ridge, Lasso\n",
        "from datetime import *\n",
        "from matplotlib import pyplot"
      ],
      "execution_count": 0,
      "outputs": []
    },
    {
      "cell_type": "code",
      "metadata": {
        "id": "IKaU11QZ_Os9",
        "colab_type": "code",
        "colab": {}
      },
      "source": [
        "import warnings\n",
        "warnings.filterwarnings(\"ignore\")"
      ],
      "execution_count": 0,
      "outputs": []
    },
    {
      "cell_type": "code",
      "metadata": {
        "id": "KU83Fvfb_T-X",
        "colab_type": "code",
        "colab": {}
      },
      "source": [
        "train_df = pd.read_csv('train.csv')"
      ],
      "execution_count": 0,
      "outputs": []
    },
    {
      "cell_type": "code",
      "metadata": {
        "id": "eP_jKQzy_hOO",
        "colab_type": "code",
        "outputId": "af0dce1c-1641-4abb-fb32-be36b49c0b0c",
        "colab": {
          "base_uri": "https://localhost:8080/",
          "height": 34
        }
      },
      "source": [
        "train_df.shape"
      ],
      "execution_count": 0,
      "outputs": [
        {
          "output_type": "execute_result",
          "data": {
            "text/plain": [
              "(12137810, 10)"
            ]
          },
          "metadata": {
            "tags": []
          },
          "execution_count": 10
        }
      ]
    },
    {
      "cell_type": "code",
      "metadata": {
        "id": "NmZ9aUeq_r-1",
        "colab_type": "code",
        "colab": {}
      },
      "source": [
        "test_df=pd.read_csv('test.csv')"
      ],
      "execution_count": 0,
      "outputs": []
    },
    {
      "cell_type": "code",
      "metadata": {
        "id": "xtajQo6p_wcz",
        "colab_type": "code",
        "outputId": "eeac0a56-8c2e-4b08-a7a1-85171a7daa37",
        "colab": {
          "base_uri": "https://localhost:8080/",
          "height": 204
        }
      },
      "source": [
        "sample_df = train_df.sample(frac=0.1, random_state = 42)\n",
        "sample_df.head()"
      ],
      "execution_count": 0,
      "outputs": [
        {
          "output_type": "execute_result",
          "data": {
            "text/html": [
              "<div>\n",
              "<style scoped>\n",
              "    .dataframe tbody tr th:only-of-type {\n",
              "        vertical-align: middle;\n",
              "    }\n",
              "\n",
              "    .dataframe tbody tr th {\n",
              "        vertical-align: top;\n",
              "    }\n",
              "\n",
              "    .dataframe thead th {\n",
              "        text-align: right;\n",
              "    }\n",
              "</style>\n",
              "<table border=\"1\" class=\"dataframe\">\n",
              "  <thead>\n",
              "    <tr style=\"text-align: right;\">\n",
              "      <th></th>\n",
              "      <th>ID</th>\n",
              "      <th>datetime</th>\n",
              "      <th>siteid</th>\n",
              "      <th>offerid</th>\n",
              "      <th>category</th>\n",
              "      <th>merchant</th>\n",
              "      <th>countrycode</th>\n",
              "      <th>browserid</th>\n",
              "      <th>devid</th>\n",
              "      <th>click</th>\n",
              "    </tr>\n",
              "  </thead>\n",
              "  <tbody>\n",
              "    <tr>\n",
              "      <th>5236822</th>\n",
              "      <td>IDybLltC5</td>\n",
              "      <td>2017-01-11 10:18:32</td>\n",
              "      <td>9759547.0</td>\n",
              "      <td>525348</td>\n",
              "      <td>42227</td>\n",
              "      <td>21153737</td>\n",
              "      <td>a</td>\n",
              "      <td>NaN</td>\n",
              "      <td>Desktop</td>\n",
              "      <td>0</td>\n",
              "    </tr>\n",
              "    <tr>\n",
              "      <th>10696411</th>\n",
              "      <td>ID9MnifkN</td>\n",
              "      <td>2017-01-16 08:32:07</td>\n",
              "      <td>NaN</td>\n",
              "      <td>921107</td>\n",
              "      <td>904</td>\n",
              "      <td>58604466</td>\n",
              "      <td>b</td>\n",
              "      <td>Edge</td>\n",
              "      <td>Tablet</td>\n",
              "      <td>0</td>\n",
              "    </tr>\n",
              "    <tr>\n",
              "      <th>1823835</th>\n",
              "      <td>IDYcLRLqB</td>\n",
              "      <td>2017-01-12 10:35:50</td>\n",
              "      <td>7974132.0</td>\n",
              "      <td>707989</td>\n",
              "      <td>42227</td>\n",
              "      <td>1436904</td>\n",
              "      <td>a</td>\n",
              "      <td>Edge</td>\n",
              "      <td>Tablet</td>\n",
              "      <td>0</td>\n",
              "    </tr>\n",
              "    <tr>\n",
              "      <th>3295561</th>\n",
              "      <td>ID7tTKae3</td>\n",
              "      <td>2017-01-14 07:08:56</td>\n",
              "      <td>7614195.0</td>\n",
              "      <td>216666</td>\n",
              "      <td>42227</td>\n",
              "      <td>43770446</td>\n",
              "      <td>a</td>\n",
              "      <td>Mozilla</td>\n",
              "      <td>Desktop</td>\n",
              "      <td>0</td>\n",
              "    </tr>\n",
              "    <tr>\n",
              "      <th>6584561</th>\n",
              "      <td>IDfP3DBd0</td>\n",
              "      <td>2017-01-12 07:43:49</td>\n",
              "      <td>3428619.0</td>\n",
              "      <td>564123</td>\n",
              "      <td>50088</td>\n",
              "      <td>57977218</td>\n",
              "      <td>d</td>\n",
              "      <td>Firefox</td>\n",
              "      <td>Mobile</td>\n",
              "      <td>0</td>\n",
              "    </tr>\n",
              "  </tbody>\n",
              "</table>\n",
              "</div>"
            ],
            "text/plain": [
              "                 ID             datetime     siteid  offerid  category  \\\n",
              "5236822   IDybLltC5  2017-01-11 10:18:32  9759547.0   525348     42227   \n",
              "10696411  ID9MnifkN  2017-01-16 08:32:07        NaN   921107       904   \n",
              "1823835   IDYcLRLqB  2017-01-12 10:35:50  7974132.0   707989     42227   \n",
              "3295561   ID7tTKae3  2017-01-14 07:08:56  7614195.0   216666     42227   \n",
              "6584561   IDfP3DBd0  2017-01-12 07:43:49  3428619.0   564123     50088   \n",
              "\n",
              "          merchant countrycode browserid    devid  click  \n",
              "5236822   21153737           a       NaN  Desktop      0  \n",
              "10696411  58604466           b      Edge   Tablet      0  \n",
              "1823835    1436904           a      Edge   Tablet      0  \n",
              "3295561   43770446           a   Mozilla  Desktop      0  \n",
              "6584561   57977218           d   Firefox   Mobile      0  "
            ]
          },
          "metadata": {
            "tags": []
          },
          "execution_count": 49
        }
      ]
    },
    {
      "cell_type": "code",
      "metadata": {
        "id": "BH1CEj-h_zSM",
        "colab_type": "code",
        "outputId": "1e0d75bd-25ce-4993-b367-8aa15aa2d02a",
        "colab": {
          "base_uri": "https://localhost:8080/",
          "height": 34
        }
      },
      "source": [
        "sample_df.shape"
      ],
      "execution_count": 0,
      "outputs": [
        {
          "output_type": "execute_result",
          "data": {
            "text/plain": [
              "(1213781, 10)"
            ]
          },
          "metadata": {
            "tags": []
          },
          "execution_count": 50
        }
      ]
    },
    {
      "cell_type": "code",
      "metadata": {
        "id": "eTQo9STK_2nQ",
        "colab_type": "code",
        "outputId": "1706ef80-65a6-4f26-9e33-99ede1e3ea0e",
        "colab": {
          "base_uri": "https://localhost:8080/",
          "height": 272
        }
      },
      "source": [
        "sample_df.info()"
      ],
      "execution_count": 0,
      "outputs": [
        {
          "output_type": "stream",
          "text": [
            "<class 'pandas.core.frame.DataFrame'>\n",
            "Int64Index: 1213781 entries, 5236822 to 9230606\n",
            "Data columns (total 10 columns):\n",
            "ID             1213781 non-null object\n",
            "datetime       1213781 non-null object\n",
            "siteid         1092678 non-null float64\n",
            "offerid        1213781 non-null int64\n",
            "category       1213781 non-null int64\n",
            "merchant       1213781 non-null int64\n",
            "countrycode    1213781 non-null object\n",
            "browserid      1152641 non-null object\n",
            "devid          1031895 non-null object\n",
            "click          1213781 non-null int64\n",
            "dtypes: float64(1), int64(4), object(5)\n",
            "memory usage: 101.9+ MB\n"
          ],
          "name": "stdout"
        }
      ]
    },
    {
      "cell_type": "code",
      "metadata": {
        "id": "MNdGT8km_6z3",
        "colab_type": "code",
        "outputId": "28840817-53bf-4353-8d3c-67c99daad4d3",
        "colab": {
          "base_uri": "https://localhost:8080/",
          "height": 297
        }
      },
      "source": [
        "sample_df.describe()"
      ],
      "execution_count": 0,
      "outputs": [
        {
          "output_type": "execute_result",
          "data": {
            "text/html": [
              "<div>\n",
              "<style scoped>\n",
              "    .dataframe tbody tr th:only-of-type {\n",
              "        vertical-align: middle;\n",
              "    }\n",
              "\n",
              "    .dataframe tbody tr th {\n",
              "        vertical-align: top;\n",
              "    }\n",
              "\n",
              "    .dataframe thead th {\n",
              "        text-align: right;\n",
              "    }\n",
              "</style>\n",
              "<table border=\"1\" class=\"dataframe\">\n",
              "  <thead>\n",
              "    <tr style=\"text-align: right;\">\n",
              "      <th></th>\n",
              "      <th>siteid</th>\n",
              "      <th>offerid</th>\n",
              "      <th>category</th>\n",
              "      <th>merchant</th>\n",
              "      <th>click</th>\n",
              "    </tr>\n",
              "  </thead>\n",
              "  <tbody>\n",
              "    <tr>\n",
              "      <th>count</th>\n",
              "      <td>1.092678e+06</td>\n",
              "      <td>1.213781e+06</td>\n",
              "      <td>1.213781e+06</td>\n",
              "      <td>1.213781e+06</td>\n",
              "      <td>1.213781e+06</td>\n",
              "    </tr>\n",
              "    <tr>\n",
              "      <th>mean</th>\n",
              "      <td>5.022356e+06</td>\n",
              "      <td>4.963481e+05</td>\n",
              "      <td>4.213800e+04</td>\n",
              "      <td>4.902424e+07</td>\n",
              "      <td>3.596695e-02</td>\n",
              "    </tr>\n",
              "    <tr>\n",
              "      <th>std</th>\n",
              "      <td>2.905119e+06</td>\n",
              "      <td>2.897792e+05</td>\n",
              "      <td>2.949814e+04</td>\n",
              "      <td>2.915522e+07</td>\n",
              "      <td>1.862078e-01</td>\n",
              "    </tr>\n",
              "    <tr>\n",
              "      <th>min</th>\n",
              "      <td>7.100000e+01</td>\n",
              "      <td>0.000000e+00</td>\n",
              "      <td>9.700000e+01</td>\n",
              "      <td>2.604430e+05</td>\n",
              "      <td>0.000000e+00</td>\n",
              "    </tr>\n",
              "    <tr>\n",
              "      <th>25%</th>\n",
              "      <td>2.503396e+06</td>\n",
              "      <td>2.472200e+05</td>\n",
              "      <td>1.496000e+04</td>\n",
              "      <td>2.639177e+07</td>\n",
              "      <td>0.000000e+00</td>\n",
              "    </tr>\n",
              "    <tr>\n",
              "      <th>50%</th>\n",
              "      <td>4.983496e+06</td>\n",
              "      <td>4.955940e+05</td>\n",
              "      <td>4.033900e+04</td>\n",
              "      <td>4.861553e+07</td>\n",
              "      <td>0.000000e+00</td>\n",
              "    </tr>\n",
              "    <tr>\n",
              "      <th>75%</th>\n",
              "      <td>7.584613e+06</td>\n",
              "      <td>7.470060e+05</td>\n",
              "      <td>6.678600e+04</td>\n",
              "      <td>7.436361e+07</td>\n",
              "      <td>0.000000e+00</td>\n",
              "    </tr>\n",
              "    <tr>\n",
              "      <th>max</th>\n",
              "      <td>9.999996e+06</td>\n",
              "      <td>9.999970e+05</td>\n",
              "      <td>9.991400e+04</td>\n",
              "      <td>9.977043e+07</td>\n",
              "      <td>1.000000e+00</td>\n",
              "    </tr>\n",
              "  </tbody>\n",
              "</table>\n",
              "</div>"
            ],
            "text/plain": [
              "             siteid       offerid      category      merchant         click\n",
              "count  1.092678e+06  1.213781e+06  1.213781e+06  1.213781e+06  1.213781e+06\n",
              "mean   5.022356e+06  4.963481e+05  4.213800e+04  4.902424e+07  3.596695e-02\n",
              "std    2.905119e+06  2.897792e+05  2.949814e+04  2.915522e+07  1.862078e-01\n",
              "min    7.100000e+01  0.000000e+00  9.700000e+01  2.604430e+05  0.000000e+00\n",
              "25%    2.503396e+06  2.472200e+05  1.496000e+04  2.639177e+07  0.000000e+00\n",
              "50%    4.983496e+06  4.955940e+05  4.033900e+04  4.861553e+07  0.000000e+00\n",
              "75%    7.584613e+06  7.470060e+05  6.678600e+04  7.436361e+07  0.000000e+00\n",
              "max    9.999996e+06  9.999970e+05  9.991400e+04  9.977043e+07  1.000000e+00"
            ]
          },
          "metadata": {
            "tags": []
          },
          "execution_count": 52
        }
      ]
    },
    {
      "cell_type": "code",
      "metadata": {
        "id": "eSol75bR_91X",
        "colab_type": "code",
        "outputId": "cca7bb8c-f9d0-4d55-fc1f-5f851df5367f",
        "colab": {
          "base_uri": "https://localhost:8080/",
          "height": 68
        }
      },
      "source": [
        "sample_df['click'].value_counts()"
      ],
      "execution_count": 0,
      "outputs": [
        {
          "output_type": "execute_result",
          "data": {
            "text/plain": [
              "0    1170125\n",
              "1      43656\n",
              "Name: click, dtype: int64"
            ]
          },
          "metadata": {
            "tags": []
          },
          "execution_count": 53
        }
      ]
    },
    {
      "cell_type": "code",
      "metadata": {
        "id": "SQvon_N6ACre",
        "colab_type": "code",
        "outputId": "c2440ca0-8c2c-4f65-fddc-c89e46894efb",
        "colab": {
          "base_uri": "https://localhost:8080/",
          "height": 359
        }
      },
      "source": [
        "total = sample_df.isnull().sum(axis=0).sort_values(ascending=False)\n",
        "percent = ((sample_df.isnull().sum(axis=0)/sample_df.isnull().count(axis=0))*100).sort_values(ascending=False)\n",
        "missing_data_columns = pd.concat([total, percent], axis=1, keys=['Total', 'Percent'])\n",
        "missing_data_columns.head(10)"
      ],
      "execution_count": 0,
      "outputs": [
        {
          "output_type": "execute_result",
          "data": {
            "text/html": [
              "<div>\n",
              "<style scoped>\n",
              "    .dataframe tbody tr th:only-of-type {\n",
              "        vertical-align: middle;\n",
              "    }\n",
              "\n",
              "    .dataframe tbody tr th {\n",
              "        vertical-align: top;\n",
              "    }\n",
              "\n",
              "    .dataframe thead th {\n",
              "        text-align: right;\n",
              "    }\n",
              "</style>\n",
              "<table border=\"1\" class=\"dataframe\">\n",
              "  <thead>\n",
              "    <tr style=\"text-align: right;\">\n",
              "      <th></th>\n",
              "      <th>Total</th>\n",
              "      <th>Percent</th>\n",
              "    </tr>\n",
              "  </thead>\n",
              "  <tbody>\n",
              "    <tr>\n",
              "      <th>devid</th>\n",
              "      <td>181886</td>\n",
              "      <td>14.985076</td>\n",
              "    </tr>\n",
              "    <tr>\n",
              "      <th>siteid</th>\n",
              "      <td>121103</td>\n",
              "      <td>9.977335</td>\n",
              "    </tr>\n",
              "    <tr>\n",
              "      <th>browserid</th>\n",
              "      <td>61140</td>\n",
              "      <td>5.037153</td>\n",
              "    </tr>\n",
              "    <tr>\n",
              "      <th>click</th>\n",
              "      <td>0</td>\n",
              "      <td>0.000000</td>\n",
              "    </tr>\n",
              "    <tr>\n",
              "      <th>countrycode</th>\n",
              "      <td>0</td>\n",
              "      <td>0.000000</td>\n",
              "    </tr>\n",
              "    <tr>\n",
              "      <th>merchant</th>\n",
              "      <td>0</td>\n",
              "      <td>0.000000</td>\n",
              "    </tr>\n",
              "    <tr>\n",
              "      <th>category</th>\n",
              "      <td>0</td>\n",
              "      <td>0.000000</td>\n",
              "    </tr>\n",
              "    <tr>\n",
              "      <th>offerid</th>\n",
              "      <td>0</td>\n",
              "      <td>0.000000</td>\n",
              "    </tr>\n",
              "    <tr>\n",
              "      <th>datetime</th>\n",
              "      <td>0</td>\n",
              "      <td>0.000000</td>\n",
              "    </tr>\n",
              "    <tr>\n",
              "      <th>ID</th>\n",
              "      <td>0</td>\n",
              "      <td>0.000000</td>\n",
              "    </tr>\n",
              "  </tbody>\n",
              "</table>\n",
              "</div>"
            ],
            "text/plain": [
              "              Total    Percent\n",
              "devid        181886  14.985076\n",
              "siteid       121103   9.977335\n",
              "browserid     61140   5.037153\n",
              "click             0   0.000000\n",
              "countrycode       0   0.000000\n",
              "merchant          0   0.000000\n",
              "category          0   0.000000\n",
              "offerid           0   0.000000\n",
              "datetime          0   0.000000\n",
              "ID                0   0.000000"
            ]
          },
          "metadata": {
            "tags": []
          },
          "execution_count": 54
        }
      ]
    },
    {
      "cell_type": "code",
      "metadata": {
        "id": "8g8hyTrQAJIb",
        "colab_type": "code",
        "colab": {}
      },
      "source": [
        "sample_df['siteid'].fillna(train_df['siteid'].mode()[0],inplace=True)\n",
        "sample_df['browserid'].fillna(train_df['browserid'].mode()[0],inplace=True)\n",
        "sample_df['devid'].fillna(train_df['devid'].mode()[0],inplace=True)"
      ],
      "execution_count": 0,
      "outputs": []
    },
    {
      "cell_type": "code",
      "metadata": {
        "id": "0bn404wuAM9u",
        "colab_type": "code",
        "colab": {}
      },
      "source": [
        "sample_df['datetime']=pd.to_datetime(sample_df['datetime'])\n",
        "sample_df['date'] = sample_df['datetime'].dt.date\n",
        "sample_df['time'] = sample_df['datetime'].dt.time\n",
        "sample_df.drop(['ID','datetime'],axis= 1, inplace=True)"
      ],
      "execution_count": 0,
      "outputs": []
    },
    {
      "cell_type": "code",
      "metadata": {
        "id": "PhJ5w-32AQFa",
        "colab_type": "code",
        "outputId": "702a2791-8adf-4d9a-c565-56982cb952d6",
        "colab": {
          "base_uri": "https://localhost:8080/",
          "height": 204
        }
      },
      "source": [
        "sample_df.head(5)"
      ],
      "execution_count": 0,
      "outputs": [
        {
          "output_type": "execute_result",
          "data": {
            "text/html": [
              "<div>\n",
              "<style scoped>\n",
              "    .dataframe tbody tr th:only-of-type {\n",
              "        vertical-align: middle;\n",
              "    }\n",
              "\n",
              "    .dataframe tbody tr th {\n",
              "        vertical-align: top;\n",
              "    }\n",
              "\n",
              "    .dataframe thead th {\n",
              "        text-align: right;\n",
              "    }\n",
              "</style>\n",
              "<table border=\"1\" class=\"dataframe\">\n",
              "  <thead>\n",
              "    <tr style=\"text-align: right;\">\n",
              "      <th></th>\n",
              "      <th>siteid</th>\n",
              "      <th>offerid</th>\n",
              "      <th>category</th>\n",
              "      <th>merchant</th>\n",
              "      <th>countrycode</th>\n",
              "      <th>browserid</th>\n",
              "      <th>devid</th>\n",
              "      <th>click</th>\n",
              "      <th>date</th>\n",
              "      <th>time</th>\n",
              "    </tr>\n",
              "  </thead>\n",
              "  <tbody>\n",
              "    <tr>\n",
              "      <th>5236822</th>\n",
              "      <td>9759547.0</td>\n",
              "      <td>525348</td>\n",
              "      <td>42227</td>\n",
              "      <td>21153737</td>\n",
              "      <td>a</td>\n",
              "      <td>Edge</td>\n",
              "      <td>Desktop</td>\n",
              "      <td>0</td>\n",
              "      <td>2017-01-11</td>\n",
              "      <td>10:18:32</td>\n",
              "    </tr>\n",
              "    <tr>\n",
              "      <th>10696411</th>\n",
              "      <td>8896401.0</td>\n",
              "      <td>921107</td>\n",
              "      <td>904</td>\n",
              "      <td>58604466</td>\n",
              "      <td>b</td>\n",
              "      <td>Edge</td>\n",
              "      <td>Tablet</td>\n",
              "      <td>0</td>\n",
              "      <td>2017-01-16</td>\n",
              "      <td>08:32:07</td>\n",
              "    </tr>\n",
              "    <tr>\n",
              "      <th>1823835</th>\n",
              "      <td>7974132.0</td>\n",
              "      <td>707989</td>\n",
              "      <td>42227</td>\n",
              "      <td>1436904</td>\n",
              "      <td>a</td>\n",
              "      <td>Edge</td>\n",
              "      <td>Tablet</td>\n",
              "      <td>0</td>\n",
              "      <td>2017-01-12</td>\n",
              "      <td>10:35:50</td>\n",
              "    </tr>\n",
              "    <tr>\n",
              "      <th>3295561</th>\n",
              "      <td>7614195.0</td>\n",
              "      <td>216666</td>\n",
              "      <td>42227</td>\n",
              "      <td>43770446</td>\n",
              "      <td>a</td>\n",
              "      <td>Mozilla</td>\n",
              "      <td>Desktop</td>\n",
              "      <td>0</td>\n",
              "      <td>2017-01-14</td>\n",
              "      <td>07:08:56</td>\n",
              "    </tr>\n",
              "    <tr>\n",
              "      <th>6584561</th>\n",
              "      <td>3428619.0</td>\n",
              "      <td>564123</td>\n",
              "      <td>50088</td>\n",
              "      <td>57977218</td>\n",
              "      <td>d</td>\n",
              "      <td>Firefox</td>\n",
              "      <td>Mobile</td>\n",
              "      <td>0</td>\n",
              "      <td>2017-01-12</td>\n",
              "      <td>07:43:49</td>\n",
              "    </tr>\n",
              "  </tbody>\n",
              "</table>\n",
              "</div>"
            ],
            "text/plain": [
              "             siteid  offerid  category  merchant countrycode browserid  \\\n",
              "5236822   9759547.0   525348     42227  21153737           a      Edge   \n",
              "10696411  8896401.0   921107       904  58604466           b      Edge   \n",
              "1823835   7974132.0   707989     42227   1436904           a      Edge   \n",
              "3295561   7614195.0   216666     42227  43770446           a   Mozilla   \n",
              "6584561   3428619.0   564123     50088  57977218           d   Firefox   \n",
              "\n",
              "            devid  click        date      time  \n",
              "5236822   Desktop      0  2017-01-11  10:18:32  \n",
              "10696411   Tablet      0  2017-01-16  08:32:07  \n",
              "1823835    Tablet      0  2017-01-12  10:35:50  \n",
              "3295561   Desktop      0  2017-01-14  07:08:56  \n",
              "6584561    Mobile      0  2017-01-12  07:43:49  "
            ]
          },
          "metadata": {
            "tags": []
          },
          "execution_count": 57
        }
      ]
    },
    {
      "cell_type": "code",
      "metadata": {
        "id": "vE839xM0AntC",
        "colab_type": "code",
        "outputId": "00e999c0-9af2-48b9-805f-00f0e1370bbb",
        "colab": {
          "base_uri": "https://localhost:8080/",
          "height": 421
        }
      },
      "source": [
        "pd.crosstab(sample_df['browserid'],sample_df['click'])"
      ],
      "execution_count": 0,
      "outputs": [
        {
          "output_type": "execute_result",
          "data": {
            "text/html": [
              "<div>\n",
              "<style scoped>\n",
              "    .dataframe tbody tr th:only-of-type {\n",
              "        vertical-align: middle;\n",
              "    }\n",
              "\n",
              "    .dataframe tbody tr th {\n",
              "        vertical-align: top;\n",
              "    }\n",
              "\n",
              "    .dataframe thead th {\n",
              "        text-align: right;\n",
              "    }\n",
              "</style>\n",
              "<table border=\"1\" class=\"dataframe\">\n",
              "  <thead>\n",
              "    <tr style=\"text-align: right;\">\n",
              "      <th>click</th>\n",
              "      <th>0</th>\n",
              "      <th>1</th>\n",
              "    </tr>\n",
              "    <tr>\n",
              "      <th>browserid</th>\n",
              "      <th></th>\n",
              "      <th></th>\n",
              "    </tr>\n",
              "  </thead>\n",
              "  <tbody>\n",
              "    <tr>\n",
              "      <th>Chrome</th>\n",
              "      <td>33674</td>\n",
              "      <td>1235</td>\n",
              "    </tr>\n",
              "    <tr>\n",
              "      <th>Edge</th>\n",
              "      <td>403930</td>\n",
              "      <td>3064</td>\n",
              "    </tr>\n",
              "    <tr>\n",
              "      <th>Firefox</th>\n",
              "      <td>333098</td>\n",
              "      <td>1674</td>\n",
              "    </tr>\n",
              "    <tr>\n",
              "      <th>Google Chrome</th>\n",
              "      <td>55199</td>\n",
              "      <td>14507</td>\n",
              "    </tr>\n",
              "    <tr>\n",
              "      <th>IE</th>\n",
              "      <td>33376</td>\n",
              "      <td>1223</td>\n",
              "    </tr>\n",
              "    <tr>\n",
              "      <th>Internet Explorer</th>\n",
              "      <td>22293</td>\n",
              "      <td>810</td>\n",
              "    </tr>\n",
              "    <tr>\n",
              "      <th>InternetExplorer</th>\n",
              "      <td>55943</td>\n",
              "      <td>18685</td>\n",
              "    </tr>\n",
              "    <tr>\n",
              "      <th>Mozilla</th>\n",
              "      <td>110919</td>\n",
              "      <td>787</td>\n",
              "    </tr>\n",
              "    <tr>\n",
              "      <th>Mozilla Firefox</th>\n",
              "      <td>99684</td>\n",
              "      <td>846</td>\n",
              "    </tr>\n",
              "    <tr>\n",
              "      <th>Opera</th>\n",
              "      <td>10966</td>\n",
              "      <td>429</td>\n",
              "    </tr>\n",
              "    <tr>\n",
              "      <th>Safari</th>\n",
              "      <td>11043</td>\n",
              "      <td>396</td>\n",
              "    </tr>\n",
              "  </tbody>\n",
              "</table>\n",
              "</div>"
            ],
            "text/plain": [
              "click                   0      1\n",
              "browserid                       \n",
              "Chrome              33674   1235\n",
              "Edge               403930   3064\n",
              "Firefox            333098   1674\n",
              "Google Chrome       55199  14507\n",
              "IE                  33376   1223\n",
              "Internet Explorer   22293    810\n",
              "InternetExplorer    55943  18685\n",
              "Mozilla            110919    787\n",
              "Mozilla Firefox     99684    846\n",
              "Opera               10966    429\n",
              "Safari              11043    396"
            ]
          },
          "metadata": {
            "tags": []
          },
          "execution_count": 58
        }
      ]
    },
    {
      "cell_type": "code",
      "metadata": {
        "id": "vA8pvl1rA6LH",
        "colab_type": "code",
        "colab": {}
      },
      "source": [
        "c = {'Internet Explorer':\"IntEx\", 'IE':\"IntEx\", 'InternetExplorer':\"IntEx\", 'Chrome': \"GoogC\", 'Google Chrome': \"GoogC\",'Mozilla Firefox':\"MF\", 'Mozilla': \"MF\", 'Firefox': \"MF\", 'Opera': \"Opera\", 'Safari':\"Safari\", 'Edge':\"Edge\"}\n"
      ],
      "execution_count": 0,
      "outputs": []
    },
    {
      "cell_type": "code",
      "metadata": {
        "id": "E9bnqT5PA-9M",
        "colab_type": "code",
        "colab": {}
      },
      "source": [
        "sample_df['browserid_1']=sample_df['browserid'].map(c)"
      ],
      "execution_count": 0,
      "outputs": []
    },
    {
      "cell_type": "code",
      "metadata": {
        "id": "R2TxorncBBof",
        "colab_type": "code",
        "outputId": "beb7ddec-f729-455b-ec37-d17103cb5bc4",
        "colab": {
          "base_uri": "https://localhost:8080/",
          "height": 173
        }
      },
      "source": [
        "pd.crosstab(sample_df['devid'],sample_df['browserid_1'])"
      ],
      "execution_count": 0,
      "outputs": [
        {
          "output_type": "execute_result",
          "data": {
            "text/html": [
              "<div>\n",
              "<style scoped>\n",
              "    .dataframe tbody tr th:only-of-type {\n",
              "        vertical-align: middle;\n",
              "    }\n",
              "\n",
              "    .dataframe tbody tr th {\n",
              "        vertical-align: top;\n",
              "    }\n",
              "\n",
              "    .dataframe thead th {\n",
              "        text-align: right;\n",
              "    }\n",
              "</style>\n",
              "<table border=\"1\" class=\"dataframe\">\n",
              "  <thead>\n",
              "    <tr style=\"text-align: right;\">\n",
              "      <th>browserid_1</th>\n",
              "      <th>Edge</th>\n",
              "      <th>GoogC</th>\n",
              "      <th>IntEx</th>\n",
              "      <th>MF</th>\n",
              "      <th>Opera</th>\n",
              "      <th>Safari</th>\n",
              "    </tr>\n",
              "    <tr>\n",
              "      <th>devid</th>\n",
              "      <th></th>\n",
              "      <th></th>\n",
              "      <th></th>\n",
              "      <th></th>\n",
              "      <th></th>\n",
              "      <th></th>\n",
              "    </tr>\n",
              "  </thead>\n",
              "  <tbody>\n",
              "    <tr>\n",
              "      <th>Desktop</th>\n",
              "      <td>14552</td>\n",
              "      <td>29646</td>\n",
              "      <td>63502</td>\n",
              "      <td>180526</td>\n",
              "      <td>0</td>\n",
              "      <td>0</td>\n",
              "    </tr>\n",
              "    <tr>\n",
              "      <th>Mobile</th>\n",
              "      <td>81371</td>\n",
              "      <td>74969</td>\n",
              "      <td>49190</td>\n",
              "      <td>366482</td>\n",
              "      <td>11395</td>\n",
              "      <td>1774</td>\n",
              "    </tr>\n",
              "    <tr>\n",
              "      <th>Tablet</th>\n",
              "      <td>311071</td>\n",
              "      <td>0</td>\n",
              "      <td>19638</td>\n",
              "      <td>0</td>\n",
              "      <td>0</td>\n",
              "      <td>9665</td>\n",
              "    </tr>\n",
              "  </tbody>\n",
              "</table>\n",
              "</div>"
            ],
            "text/plain": [
              "browserid_1    Edge  GoogC  IntEx      MF  Opera  Safari\n",
              "devid                                                   \n",
              "Desktop       14552  29646  63502  180526      0       0\n",
              "Mobile        81371  74969  49190  366482  11395    1774\n",
              "Tablet       311071      0  19638       0      0    9665"
            ]
          },
          "metadata": {
            "tags": []
          },
          "execution_count": 61
        }
      ]
    },
    {
      "cell_type": "code",
      "metadata": {
        "id": "TLXbKE9GBF1u",
        "colab_type": "code",
        "colab": {}
      },
      "source": [
        "sample_df['browserid_encode02'] = sample_df['browserid_1'].map(sample_df.groupby('browserid_1')['click'].mean())\n",
        "sample_df['devid_encode']=sample_df['devid'].map(sample_df.groupby('devid')['click'].mean())\n",
        "sample_df['countrycode_encode']=sample_df['countrycode'].map(sample_df.groupby('countrycode')['click'].mean())"
      ],
      "execution_count": 0,
      "outputs": []
    },
    {
      "cell_type": "code",
      "metadata": {
        "id": "AtKIE21RBJy0",
        "colab_type": "code",
        "colab": {}
      },
      "source": [
        "dic={'2017-01-10':'Tues','2017-01-11':'Wed','2017-01-12':'Thrus','2017-01-13':'Fri','2017-01-14':'Sat','2017-01-15':'Sun','2017-01-16':'Mon','2017-01-17':'Tues','2017-01-18':'Wed','2017-01-19':'Thrus','2017-01-20':'Fri'}"
      ],
      "execution_count": 0,
      "outputs": []
    },
    {
      "cell_type": "code",
      "metadata": {
        "id": "kIlAQFK4BNQ9",
        "colab_type": "code",
        "outputId": "6b3752f6-4178-4d87-8e4a-2a86eff0d9ae",
        "colab": {
          "base_uri": "https://localhost:8080/",
          "height": 221
        }
      },
      "source": [
        "d=sample_df['date'].astype(str)\n",
        "sample_df['day']=d.map(dic)\n",
        "sample_df[sample_df['click']==1]['date'].value_counts()"
      ],
      "execution_count": 0,
      "outputs": [
        {
          "output_type": "execute_result",
          "data": {
            "text/plain": [
              "2017-01-14    4705\n",
              "2017-01-12    4295\n",
              "2017-01-11    4217\n",
              "2017-01-17    4212\n",
              "2017-01-16    4103\n",
              "2017-01-10    3928\n",
              "2017-01-18    3925\n",
              "2017-01-20    3733\n",
              "2017-01-13    3693\n",
              "2017-01-15    3616\n",
              "2017-01-19    3229\n",
              "Name: date, dtype: int64"
            ]
          },
          "metadata": {
            "tags": []
          },
          "execution_count": 64
        }
      ]
    },
    {
      "cell_type": "code",
      "metadata": {
        "id": "OkS8Z3IMBPsn",
        "colab_type": "code",
        "outputId": "44bd2aa2-475e-49ca-f07c-7c5be3f20dc0",
        "colab": {
          "base_uri": "https://localhost:8080/",
          "height": 442
        }
      },
      "source": [
        "def hr_func(ts):\n",
        "  return ts.hour\n",
        "sample_df['hour']=sample_df['time'].apply(hr_func)\n",
        "sample_df[sample_df['click']==1]['hour'].value_counts()"
      ],
      "execution_count": 0,
      "outputs": [
        {
          "output_type": "execute_result",
          "data": {
            "text/plain": [
              "10    3243\n",
              "17    2950\n",
              "16    2864\n",
              "13    2827\n",
              "11    2821\n",
              "14    2799\n",
              "12    2735\n",
              "15    2660\n",
              "18    2402\n",
              "9     2362\n",
              "21    2241\n",
              "19    2162\n",
              "20    2147\n",
              "8     1942\n",
              "22    1742\n",
              "7     1445\n",
              "23    1095\n",
              "0      813\n",
              "6      600\n",
              "1      441\n",
              "2      370\n",
              "5      352\n",
              "3      346\n",
              "4      297\n",
              "Name: hour, dtype: int64"
            ]
          },
          "metadata": {
            "tags": []
          },
          "execution_count": 65
        }
      ]
    },
    {
      "cell_type": "code",
      "metadata": {
        "id": "ComqAhcMBTB2",
        "colab_type": "code",
        "outputId": "be0cc1e9-44ba-4f3c-cffc-2ca727758b5f",
        "colab": {
          "base_uri": "https://localhost:8080/",
          "height": 85
        }
      },
      "source": [
        "sample_df.columns"
      ],
      "execution_count": 0,
      "outputs": [
        {
          "output_type": "execute_result",
          "data": {
            "text/plain": [
              "Index(['siteid', 'offerid', 'category', 'merchant', 'countrycode', 'browserid',\n",
              "       'devid', 'click', 'date', 'time', 'browserid_1', 'browserid_encode02',\n",
              "       'devid_encode', 'countrycode_encode', 'day', 'hour'],\n",
              "      dtype='object')"
            ]
          },
          "metadata": {
            "tags": []
          },
          "execution_count": 66
        }
      ]
    },
    {
      "cell_type": "code",
      "metadata": {
        "id": "x38VvOLeB3e-",
        "colab_type": "code",
        "outputId": "fd2a0170-682a-44c3-c44b-fa1ecd0dbeec",
        "colab": {
          "base_uri": "https://localhost:8080/",
          "height": 669
        }
      },
      "source": [
        "sample_df['dev_bro']=sample_df['devid'].astype('str')+sample_df['browserid'].astype('str')\n",
        "pd.crosstab(sample_df['dev_bro'],sample_df['click'])"
      ],
      "execution_count": 0,
      "outputs": [
        {
          "output_type": "execute_result",
          "data": {
            "text/html": [
              "<div>\n",
              "<style scoped>\n",
              "    .dataframe tbody tr th:only-of-type {\n",
              "        vertical-align: middle;\n",
              "    }\n",
              "\n",
              "    .dataframe tbody tr th {\n",
              "        vertical-align: top;\n",
              "    }\n",
              "\n",
              "    .dataframe thead th {\n",
              "        text-align: right;\n",
              "    }\n",
              "</style>\n",
              "<table border=\"1\" class=\"dataframe\">\n",
              "  <thead>\n",
              "    <tr style=\"text-align: right;\">\n",
              "      <th>click</th>\n",
              "      <th>0</th>\n",
              "      <th>1</th>\n",
              "    </tr>\n",
              "    <tr>\n",
              "      <th>dev_bro</th>\n",
              "      <th></th>\n",
              "      <th></th>\n",
              "    </tr>\n",
              "  </thead>\n",
              "  <tbody>\n",
              "    <tr>\n",
              "      <th>DesktopChrome</th>\n",
              "      <td>28615</td>\n",
              "      <td>1031</td>\n",
              "    </tr>\n",
              "    <tr>\n",
              "      <th>DesktopEdge</th>\n",
              "      <td>13600</td>\n",
              "      <td>952</td>\n",
              "    </tr>\n",
              "    <tr>\n",
              "      <th>DesktopInternetExplorer</th>\n",
              "      <td>47540</td>\n",
              "      <td>15962</td>\n",
              "    </tr>\n",
              "    <tr>\n",
              "      <th>DesktopMozilla</th>\n",
              "      <td>94460</td>\n",
              "      <td>671</td>\n",
              "    </tr>\n",
              "    <tr>\n",
              "      <th>DesktopMozilla Firefox</th>\n",
              "      <td>84671</td>\n",
              "      <td>724</td>\n",
              "    </tr>\n",
              "    <tr>\n",
              "      <th>MobileChrome</th>\n",
              "      <td>5059</td>\n",
              "      <td>204</td>\n",
              "    </tr>\n",
              "    <tr>\n",
              "      <th>MobileEdge</th>\n",
              "      <td>80102</td>\n",
              "      <td>1269</td>\n",
              "    </tr>\n",
              "    <tr>\n",
              "      <th>MobileFirefox</th>\n",
              "      <td>333098</td>\n",
              "      <td>1674</td>\n",
              "    </tr>\n",
              "    <tr>\n",
              "      <th>MobileGoogle Chrome</th>\n",
              "      <td>55199</td>\n",
              "      <td>14507</td>\n",
              "    </tr>\n",
              "    <tr>\n",
              "      <th>MobileIE</th>\n",
              "      <td>33376</td>\n",
              "      <td>1223</td>\n",
              "    </tr>\n",
              "    <tr>\n",
              "      <th>MobileInternet Explorer</th>\n",
              "      <td>3353</td>\n",
              "      <td>112</td>\n",
              "    </tr>\n",
              "    <tr>\n",
              "      <th>MobileInternetExplorer</th>\n",
              "      <td>8403</td>\n",
              "      <td>2723</td>\n",
              "    </tr>\n",
              "    <tr>\n",
              "      <th>MobileMozilla</th>\n",
              "      <td>16459</td>\n",
              "      <td>116</td>\n",
              "    </tr>\n",
              "    <tr>\n",
              "      <th>MobileMozilla Firefox</th>\n",
              "      <td>15013</td>\n",
              "      <td>122</td>\n",
              "    </tr>\n",
              "    <tr>\n",
              "      <th>MobileOpera</th>\n",
              "      <td>10966</td>\n",
              "      <td>429</td>\n",
              "    </tr>\n",
              "    <tr>\n",
              "      <th>MobileSafari</th>\n",
              "      <td>1723</td>\n",
              "      <td>51</td>\n",
              "    </tr>\n",
              "    <tr>\n",
              "      <th>TabletEdge</th>\n",
              "      <td>310228</td>\n",
              "      <td>843</td>\n",
              "    </tr>\n",
              "    <tr>\n",
              "      <th>TabletInternet Explorer</th>\n",
              "      <td>18940</td>\n",
              "      <td>698</td>\n",
              "    </tr>\n",
              "    <tr>\n",
              "      <th>TabletSafari</th>\n",
              "      <td>9320</td>\n",
              "      <td>345</td>\n",
              "    </tr>\n",
              "  </tbody>\n",
              "</table>\n",
              "</div>"
            ],
            "text/plain": [
              "click                         0      1\n",
              "dev_bro                               \n",
              "DesktopChrome             28615   1031\n",
              "DesktopEdge               13600    952\n",
              "DesktopInternetExplorer   47540  15962\n",
              "DesktopMozilla            94460    671\n",
              "DesktopMozilla Firefox    84671    724\n",
              "MobileChrome               5059    204\n",
              "MobileEdge                80102   1269\n",
              "MobileFirefox            333098   1674\n",
              "MobileGoogle Chrome       55199  14507\n",
              "MobileIE                  33376   1223\n",
              "MobileInternet Explorer    3353    112\n",
              "MobileInternetExplorer     8403   2723\n",
              "MobileMozilla             16459    116\n",
              "MobileMozilla Firefox     15013    122\n",
              "MobileOpera               10966    429\n",
              "MobileSafari               1723     51\n",
              "TabletEdge               310228    843\n",
              "TabletInternet Explorer   18940    698\n",
              "TabletSafari               9320    345"
            ]
          },
          "metadata": {
            "tags": []
          },
          "execution_count": 67
        }
      ]
    },
    {
      "cell_type": "code",
      "metadata": {
        "id": "3nFe-HfvChwr",
        "colab_type": "code",
        "colab": {}
      },
      "source": [
        "sample_df['dev_bro_encode']=sample_df['dev_bro'].map(sample_df.groupby('dev_bro')['click'].mean())\n",
        "sample_df['day_encode']=sample_df['day'].map(sample_df.groupby('day')['click'].mean())"
      ],
      "execution_count": 0,
      "outputs": []
    },
    {
      "cell_type": "code",
      "metadata": {
        "id": "4zn1OthIC_JS",
        "colab_type": "code",
        "colab": {}
      },
      "source": [
        "sample_df['site_offer']=sample_df['siteid']+sample_df['offerid']\n",
        "sample_df['offer_cat']=sample_df['offerid']+sample_df['category']\n",
        "sample_df['site_offer_hour']=sample_df['site_offer']+sample_df['hour']\n",
        "sample_df['site_offer_dev_bro']=sample_df['site_offer']+sample_df['dev_bro_encode']\n",
        "sample_df['site_offer_day']=sample_df['site_offer']+sample_df['day_encode']"
      ],
      "execution_count": 0,
      "outputs": []
    },
    {
      "cell_type": "code",
      "metadata": {
        "id": "wdg1W9ufDQ0b",
        "colab_type": "code",
        "outputId": "936482b9-e2c1-484d-cb72-d4ee9cdba4f2",
        "colab": {
          "base_uri": "https://localhost:8080/",
          "height": 119
        }
      },
      "source": [
        "print(sample_df.columns,len(sample_df.columns))"
      ],
      "execution_count": 0,
      "outputs": [
        {
          "output_type": "stream",
          "text": [
            "Index(['siteid', 'offerid', 'category', 'merchant', 'countrycode', 'browserid',\n",
            "       'devid', 'click', 'date', 'time', 'browserid_1', 'browserid_encode02',\n",
            "       'devid_encode', 'countrycode_encode', 'day', 'hour', 'dev_bro',\n",
            "       'dev_bro_encode', 'day_encode', 'site_offer', 'offer_cat',\n",
            "       'site_offer_hour', 'site_offer_dev_bro', 'site_offer_day'],\n",
            "      dtype='object') 24\n"
          ],
          "name": "stdout"
        }
      ]
    },
    {
      "cell_type": "code",
      "metadata": {
        "id": "CVnvpp2GEdz1",
        "colab_type": "code",
        "colab": {}
      },
      "source": [
        "y=sample_df.click\n",
        "X=sample_df.drop('click',axis=1)\n",
        "X_train,X_test,y_train,y_test=train_test_split(X,y,test_size=0.3,random_state=42)"
      ],
      "execution_count": 0,
      "outputs": []
    },
    {
      "cell_type": "code",
      "metadata": {
        "id": "NhjhGisNEi7_",
        "colab_type": "code",
        "outputId": "e8b80bf0-6c2b-4b80-e292-a4268afae453",
        "colab": {
          "base_uri": "https://localhost:8080/",
          "height": 179
        }
      },
      "source": [
        "from sklearn.feature_selection import SelectKBest\n",
        "from sklearn.feature_selection import f_classif\n",
        "num_cols=list(X_train._get_numeric_data().columns)\n",
        "fvalue_selector = SelectKBest(f_classif, k='all')\n",
        "f_value=fvalue_selector.fit(X_train[num_cols],y_train)\n",
        "feature=pd.DataFrame([num_cols,f_value.scores_,f_value.pvalues_])\n",
        "feature"
      ],
      "execution_count": 0,
      "outputs": [
        {
          "output_type": "execute_result",
          "data": {
            "text/html": [
              "<div>\n",
              "<style scoped>\n",
              "    .dataframe tbody tr th:only-of-type {\n",
              "        vertical-align: middle;\n",
              "    }\n",
              "\n",
              "    .dataframe tbody tr th {\n",
              "        vertical-align: top;\n",
              "    }\n",
              "\n",
              "    .dataframe thead th {\n",
              "        text-align: right;\n",
              "    }\n",
              "</style>\n",
              "<table border=\"1\" class=\"dataframe\">\n",
              "  <thead>\n",
              "    <tr style=\"text-align: right;\">\n",
              "      <th></th>\n",
              "      <th>0</th>\n",
              "      <th>1</th>\n",
              "      <th>2</th>\n",
              "      <th>3</th>\n",
              "      <th>4</th>\n",
              "      <th>5</th>\n",
              "      <th>6</th>\n",
              "      <th>7</th>\n",
              "      <th>8</th>\n",
              "      <th>9</th>\n",
              "      <th>10</th>\n",
              "      <th>11</th>\n",
              "      <th>12</th>\n",
              "      <th>13</th>\n",
              "      <th>14</th>\n",
              "    </tr>\n",
              "  </thead>\n",
              "  <tbody>\n",
              "    <tr>\n",
              "      <th>0</th>\n",
              "      <td>siteid</td>\n",
              "      <td>offerid</td>\n",
              "      <td>category</td>\n",
              "      <td>merchant</td>\n",
              "      <td>browserid_encode02</td>\n",
              "      <td>devid_encode</td>\n",
              "      <td>countrycode_encode</td>\n",
              "      <td>hour</td>\n",
              "      <td>dev_bro_encode</td>\n",
              "      <td>day_encode</td>\n",
              "      <td>site_offer</td>\n",
              "      <td>offer_cat</td>\n",
              "      <td>site_offer_hour</td>\n",
              "      <td>site_offer_dev_bro</td>\n",
              "      <td>site_offer_day</td>\n",
              "    </tr>\n",
              "    <tr>\n",
              "      <th>1</th>\n",
              "      <td>0.0272441</td>\n",
              "      <td>4.35194</td>\n",
              "      <td>23.4816</td>\n",
              "      <td>319.999</td>\n",
              "      <td>91864.5</td>\n",
              "      <td>12197.4</td>\n",
              "      <td>167162</td>\n",
              "      <td>2906.83</td>\n",
              "      <td>151070</td>\n",
              "      <td>312.55</td>\n",
              "      <td>0.00136226</td>\n",
              "      <td>2.51316</td>\n",
              "      <td>0.0013674</td>\n",
              "      <td>0.0013629</td>\n",
              "      <td>0.00136227</td>\n",
              "    </tr>\n",
              "    <tr>\n",
              "      <th>2</th>\n",
              "      <td>0.868898</td>\n",
              "      <td>0.0369671</td>\n",
              "      <td>1.26135e-06</td>\n",
              "      <td>1.49398e-71</td>\n",
              "      <td>0</td>\n",
              "      <td>0</td>\n",
              "      <td>0</td>\n",
              "      <td>0</td>\n",
              "      <td>0</td>\n",
              "      <td>6.25489e-70</td>\n",
              "      <td>0.970558</td>\n",
              "      <td>0.1129</td>\n",
              "      <td>0.970502</td>\n",
              "      <td>0.970551</td>\n",
              "      <td>0.970558</td>\n",
              "    </tr>\n",
              "  </tbody>\n",
              "</table>\n",
              "</div>"
            ],
            "text/plain": [
              "          0          1            2            3                   4   \\\n",
              "0     siteid    offerid     category     merchant  browserid_encode02   \n",
              "1  0.0272441    4.35194      23.4816      319.999             91864.5   \n",
              "2   0.868898  0.0369671  1.26135e-06  1.49398e-71                   0   \n",
              "\n",
              "             5                   6        7               8            9   \\\n",
              "0  devid_encode  countrycode_encode     hour  dev_bro_encode   day_encode   \n",
              "1       12197.4              167162  2906.83          151070       312.55   \n",
              "2             0                   0        0               0  6.25489e-70   \n",
              "\n",
              "           10         11               12                  13              14  \n",
              "0  site_offer  offer_cat  site_offer_hour  site_offer_dev_bro  site_offer_day  \n",
              "1  0.00136226    2.51316        0.0013674           0.0013629      0.00136227  \n",
              "2    0.970558     0.1129         0.970502            0.970551        0.970558  "
            ]
          },
          "metadata": {
            "tags": []
          },
          "execution_count": 72
        }
      ]
    },
    {
      "cell_type": "code",
      "metadata": {
        "id": "etGPJ4YqEmnh",
        "colab_type": "code",
        "colab": {}
      },
      "source": [
        "lr=LogisticRegression(class_weight='balanced')"
      ],
      "execution_count": 0,
      "outputs": []
    },
    {
      "cell_type": "code",
      "metadata": {
        "id": "p8_4FkjFEsD7",
        "colab_type": "code",
        "outputId": "8d142192-b81f-4ec3-a0c2-8779fba95fca",
        "colab": {
          "base_uri": "https://localhost:8080/",
          "height": 204
        }
      },
      "source": [
        "list=['category', 'merchant','browserid_encode02', 'devid_encode','countrycode_encode', 'day_encode', 'hour','dev_bro_encode']\n",
        "sample_df[list].head()"
      ],
      "execution_count": 0,
      "outputs": [
        {
          "output_type": "execute_result",
          "data": {
            "text/html": [
              "<div>\n",
              "<style scoped>\n",
              "    .dataframe tbody tr th:only-of-type {\n",
              "        vertical-align: middle;\n",
              "    }\n",
              "\n",
              "    .dataframe tbody tr th {\n",
              "        vertical-align: top;\n",
              "    }\n",
              "\n",
              "    .dataframe thead th {\n",
              "        text-align: right;\n",
              "    }\n",
              "</style>\n",
              "<table border=\"1\" class=\"dataframe\">\n",
              "  <thead>\n",
              "    <tr style=\"text-align: right;\">\n",
              "      <th></th>\n",
              "      <th>category</th>\n",
              "      <th>merchant</th>\n",
              "      <th>browserid_encode02</th>\n",
              "      <th>devid_encode</th>\n",
              "      <th>countrycode_encode</th>\n",
              "      <th>day_encode</th>\n",
              "      <th>hour</th>\n",
              "      <th>dev_bro_encode</th>\n",
              "    </tr>\n",
              "  </thead>\n",
              "  <tbody>\n",
              "    <tr>\n",
              "      <th>5236822</th>\n",
              "      <td>42227</td>\n",
              "      <td>21153737</td>\n",
              "      <td>0.007528</td>\n",
              "      <td>0.067100</td>\n",
              "      <td>0.007446</td>\n",
              "      <td>0.033931</td>\n",
              "      <td>10</td>\n",
              "      <td>0.065421</td>\n",
              "    </tr>\n",
              "    <tr>\n",
              "      <th>10696411</th>\n",
              "      <td>904</td>\n",
              "      <td>58604466</td>\n",
              "      <td>0.007528</td>\n",
              "      <td>0.005541</td>\n",
              "      <td>0.004016</td>\n",
              "      <td>0.036691</td>\n",
              "      <td>8</td>\n",
              "      <td>0.002710</td>\n",
              "    </tr>\n",
              "    <tr>\n",
              "      <th>1823835</th>\n",
              "      <td>42227</td>\n",
              "      <td>1436904</td>\n",
              "      <td>0.007528</td>\n",
              "      <td>0.005541</td>\n",
              "      <td>0.007446</td>\n",
              "      <td>0.039249</td>\n",
              "      <td>10</td>\n",
              "      <td>0.002710</td>\n",
              "    </tr>\n",
              "    <tr>\n",
              "      <th>3295561</th>\n",
              "      <td>42227</td>\n",
              "      <td>43770446</td>\n",
              "      <td>0.006046</td>\n",
              "      <td>0.067100</td>\n",
              "      <td>0.007446</td>\n",
              "      <td>0.033762</td>\n",
              "      <td>7</td>\n",
              "      <td>0.007053</td>\n",
              "    </tr>\n",
              "    <tr>\n",
              "      <th>6584561</th>\n",
              "      <td>50088</td>\n",
              "      <td>57977218</td>\n",
              "      <td>0.006046</td>\n",
              "      <td>0.038330</td>\n",
              "      <td>0.182963</td>\n",
              "      <td>0.039249</td>\n",
              "      <td>7</td>\n",
              "      <td>0.005000</td>\n",
              "    </tr>\n",
              "  </tbody>\n",
              "</table>\n",
              "</div>"
            ],
            "text/plain": [
              "          category  merchant  browserid_encode02  devid_encode  \\\n",
              "5236822      42227  21153737            0.007528      0.067100   \n",
              "10696411       904  58604466            0.007528      0.005541   \n",
              "1823835      42227   1436904            0.007528      0.005541   \n",
              "3295561      42227  43770446            0.006046      0.067100   \n",
              "6584561      50088  57977218            0.006046      0.038330   \n",
              "\n",
              "          countrycode_encode  day_encode  hour  dev_bro_encode  \n",
              "5236822             0.007446    0.033931    10        0.065421  \n",
              "10696411            0.004016    0.036691     8        0.002710  \n",
              "1823835             0.007446    0.039249    10        0.002710  \n",
              "3295561             0.007446    0.033762     7        0.007053  \n",
              "6584561             0.182963    0.039249     7        0.005000  "
            ]
          },
          "metadata": {
            "tags": []
          },
          "execution_count": 74
        }
      ]
    },
    {
      "cell_type": "code",
      "metadata": {
        "id": "zBnXb7KRExG7",
        "colab_type": "code",
        "colab": {}
      },
      "source": [
        "from sklearn.preprocessing import MinMaxScaler\n",
        "normalizer = MinMaxScaler()\n",
        "num_columns = ['category', 'merchant']\n",
        "normalizer.fit(X_train[num_columns])\n",
        "X_train[num_columns] = normalizer.transform(X_train[num_columns])\n",
        "X_test[num_columns] = normalizer.transform(X_test[num_columns])"
      ],
      "execution_count": 0,
      "outputs": []
    },
    {
      "cell_type": "code",
      "metadata": {
        "id": "D5xw1YeCE07N",
        "colab_type": "code",
        "colab": {}
      },
      "source": [
        "from sklearn.metrics import accuracy_score,f1_score,precision_score,recall_score,roc_auc_score"
      ],
      "execution_count": 0,
      "outputs": []
    },
    {
      "cell_type": "code",
      "metadata": {
        "id": "U25yZPP8E3l9",
        "colab_type": "code",
        "colab": {}
      },
      "source": [
        "def params(yt,yp):\n",
        "  print('Accuracy:',accuracy_score(yt,yp))\n",
        "  print('F1score:',f1_score(yt,yp))\n",
        "  print('Prec:',precision_score(yt,yp))\n",
        "  print('Recall',recall_score(yt,yp))\n",
        "  print('ROC:',roc_auc_score(yt,yp))"
      ],
      "execution_count": 0,
      "outputs": []
    },
    {
      "cell_type": "code",
      "metadata": {
        "id": "JE6UVMTeE59b",
        "colab_type": "code",
        "outputId": "43ca4a5e-6232-4966-ceb9-76bb8d5650ad",
        "colab": {
          "base_uri": "https://localhost:8080/",
          "height": 85
        }
      },
      "source": [
        "lr.fit(X_train[list],y_train)"
      ],
      "execution_count": 0,
      "outputs": [
        {
          "output_type": "execute_result",
          "data": {
            "text/plain": [
              "LogisticRegression(C=1.0, class_weight='balanced', dual=False,\n",
              "          fit_intercept=True, intercept_scaling=1, max_iter=100,\n",
              "          multi_class='warn', n_jobs=None, penalty='l2', random_state=None,\n",
              "          solver='warn', tol=0.0001, verbose=0, warm_start=False)"
            ]
          },
          "metadata": {
            "tags": []
          },
          "execution_count": 78
        }
      ]
    },
    {
      "cell_type": "code",
      "metadata": {
        "id": "9SBECe-pE9Rf",
        "colab_type": "code",
        "colab": {}
      },
      "source": [
        "y_pred=lr.predict(X_test[list])\n",
        "y_train_pred=lr.predict(X_train[list])"
      ],
      "execution_count": 0,
      "outputs": []
    },
    {
      "cell_type": "code",
      "metadata": {
        "id": "VkIlh4-XFCHI",
        "colab_type": "code",
        "outputId": "ce61ab51-16ee-4cf8-e472-b67742e10375",
        "colab": {
          "base_uri": "https://localhost:8080/",
          "height": 119
        }
      },
      "source": [
        "print('Testing params')\n",
        "params(y_test,y_pred)"
      ],
      "execution_count": 0,
      "outputs": [
        {
          "output_type": "stream",
          "text": [
            "Testing params\n",
            "Accuracy: 0.8641492852925426\n",
            "F1score: 0.32450294953026004\n",
            "Prec: 0.19752963276977042\n",
            "Recall 0.9084792415322273\n",
            "ROC: 0.8854884813467617\n"
          ],
          "name": "stdout"
        }
      ]
    },
    {
      "cell_type": "code",
      "metadata": {
        "id": "STTmv7C0FGlK",
        "colab_type": "code",
        "outputId": "2b9ccfb4-b93c-4fc0-efae-4320f73360f9",
        "colab": {
          "base_uri": "https://localhost:8080/",
          "height": 119
        }
      },
      "source": [
        "print('Training params')\n",
        "params(y_train,y_train_pred)"
      ],
      "execution_count": 0,
      "outputs": [
        {
          "output_type": "stream",
          "text": [
            "Training params\n",
            "Accuracy: 0.8637879775812515\n",
            "F1score: 0.3249337953079247\n",
            "Prec: 0.19773393629180538\n",
            "Recall 0.9109134316643228\n",
            "ROC: 0.8864710748177902\n"
          ],
          "name": "stdout"
        }
      ]
    },
    {
      "cell_type": "code",
      "metadata": {
        "id": "g3Cxw_OYFIp1",
        "colab_type": "code",
        "outputId": "1ac111a6-b0d4-42ca-dc41-2df8a219668c",
        "colab": {
          "base_uri": "https://localhost:8080/",
          "height": 136
        }
      },
      "source": [
        "from sklearn.ensemble import RandomForestClassifier\n",
        "rfc=RandomForestClassifier(class_weight='balanced',max_depth=4,n_estimators=100)\n",
        "rfc.fit(X_train[list],y_train)"
      ],
      "execution_count": 0,
      "outputs": [
        {
          "output_type": "execute_result",
          "data": {
            "text/plain": [
              "RandomForestClassifier(bootstrap=True, class_weight='balanced',\n",
              "            criterion='gini', max_depth=4, max_features='auto',\n",
              "            max_leaf_nodes=None, min_impurity_decrease=0.0,\n",
              "            min_impurity_split=None, min_samples_leaf=1,\n",
              "            min_samples_split=2, min_weight_fraction_leaf=0.0,\n",
              "            n_estimators=100, n_jobs=None, oob_score=False,\n",
              "            random_state=None, verbose=0, warm_start=False)"
            ]
          },
          "metadata": {
            "tags": []
          },
          "execution_count": 82
        }
      ]
    },
    {
      "cell_type": "code",
      "metadata": {
        "id": "5QZEEj7HFNDC",
        "colab_type": "code",
        "colab": {}
      },
      "source": [
        "y_pred_rf=rfc.predict(X_test[list])\n",
        "y_train_pred_rf=rfc.predict(X_train[list])"
      ],
      "execution_count": 0,
      "outputs": []
    },
    {
      "cell_type": "code",
      "metadata": {
        "id": "lnWRaKClFQbr",
        "colab_type": "code",
        "outputId": "bd2616d1-15dc-4e8f-a5dd-b1cd2a39b94b",
        "colab": {
          "base_uri": "https://localhost:8080/",
          "height": 119
        }
      },
      "source": [
        "print('Test')\n",
        "params(y_test,y_pred_rf)"
      ],
      "execution_count": 0,
      "outputs": [
        {
          "output_type": "stream",
          "text": [
            "Test\n",
            "Accuracy: 0.8830131681931151\n",
            "F1score: 0.35710297158207693\n",
            "Prec: 0.2224624873077357\n",
            "Recall 0.9045798608456304\n",
            "ROC: 0.8933947683973834\n"
          ],
          "name": "stdout"
        }
      ]
    },
    {
      "cell_type": "code",
      "metadata": {
        "id": "FQn-p4I0FTE6",
        "colab_type": "code",
        "outputId": "c436db72-5f6f-41fc-d098-c4d2b5af3cfa",
        "colab": {
          "base_uri": "https://localhost:8080/",
          "height": 119
        }
      },
      "source": [
        "print('Test')\n",
        "params(y_test,y_pred_rf)"
      ],
      "execution_count": 0,
      "outputs": [
        {
          "output_type": "stream",
          "text": [
            "Test\n",
            "Accuracy: 0.8830131681931151\n",
            "F1score: 0.35710297158207693\n",
            "Prec: 0.2224624873077357\n",
            "Recall 0.9045798608456304\n",
            "ROC: 0.8933947683973834\n"
          ],
          "name": "stdout"
        }
      ]
    },
    {
      "cell_type": "code",
      "metadata": {
        "id": "xCnt-zATFWvh",
        "colab_type": "code",
        "colab": {}
      },
      "source": [
        "from sklearn.metrics import classification_report"
      ],
      "execution_count": 0,
      "outputs": []
    },
    {
      "cell_type": "code",
      "metadata": {
        "id": "R6oiDWpBFZJt",
        "colab_type": "code",
        "outputId": "5ec3111d-2fd8-4aaf-b352-b5e7bf8ccf19",
        "colab": {
          "base_uri": "https://localhost:8080/",
          "height": 170
        }
      },
      "source": [
        "print(classification_report(y_test,y_pred_rf))"
      ],
      "execution_count": 0,
      "outputs": [
        {
          "output_type": "stream",
          "text": [
            "              precision    recall  f1-score   support\n",
            "\n",
            "           0       1.00      0.88      0.94    351056\n",
            "           1       0.22      0.90      0.36     13079\n",
            "\n",
            "   micro avg       0.88      0.88      0.88    364135\n",
            "   macro avg       0.61      0.89      0.65    364135\n",
            "weighted avg       0.97      0.88      0.91    364135\n",
            "\n"
          ],
          "name": "stdout"
        }
      ]
    },
    {
      "cell_type": "code",
      "metadata": {
        "id": "CINY5t2cFcAH",
        "colab_type": "code",
        "colab": {}
      },
      "source": [
        "from xgboost import XGBClassifier\n",
        "model = XGBClassifier()\n",
        "model.fit(X_train[list], y_train)\n",
        "y_pred_xg = model.predict(X_test[list])\n",
        "y_train_xg = model.predict(X_train[list])"
      ],
      "execution_count": 0,
      "outputs": []
    },
    {
      "cell_type": "code",
      "metadata": {
        "id": "5ebD9fzDFfn-",
        "colab_type": "code",
        "outputId": "cee823be-4b8b-4764-ffb2-0cc4617e46be",
        "colab": {
          "base_uri": "https://localhost:8080/",
          "height": 119
        }
      },
      "source": [
        "print('Test')\n",
        "params(y_test,y_pred_xg)"
      ],
      "execution_count": 0,
      "outputs": [
        {
          "output_type": "stream",
          "text": [
            "Test\n",
            "Accuracy: 0.9785134634132945\n",
            "F1score: 0.6876646706586825\n",
            "Prec: 0.7194887645142427\n",
            "Recall 0.6585365853658537\n",
            "ROC: 0.8244855799533339\n"
          ],
          "name": "stdout"
        }
      ]
    },
    {
      "cell_type": "code",
      "metadata": {
        "id": "JG4lRIUyFjwz",
        "colab_type": "code",
        "outputId": "e7c60a35-9088-468f-be68-7a34c096968e",
        "colab": {
          "base_uri": "https://localhost:8080/",
          "height": 119
        }
      },
      "source": [
        "print('Train')\n",
        "params(y_train,y_train_xg)"
      ],
      "execution_count": 0,
      "outputs": [
        {
          "output_type": "stream",
          "text": [
            "Train\n",
            "Accuracy: 0.9784616181327283\n",
            "F1score: 0.6883833395770188\n",
            "Prec: 0.7180716899356994\n",
            "Recall 0.6610524250253459\n",
            "ROC: 0.8256816878145096\n"
          ],
          "name": "stdout"
        }
      ]
    },
    {
      "cell_type": "code",
      "metadata": {
        "id": "YxlamIkeFns-",
        "colab_type": "code",
        "outputId": "663efd24-c0cb-44d0-978b-9744a74ee7b2",
        "colab": {
          "base_uri": "https://localhost:8080/",
          "height": 170
        }
      },
      "source": [
        "print(classification_report(y_test,y_pred_xg))"
      ],
      "execution_count": 0,
      "outputs": [
        {
          "output_type": "stream",
          "text": [
            "              precision    recall  f1-score   support\n",
            "\n",
            "           0       0.99      0.99      0.99    351056\n",
            "           1       0.72      0.66      0.69     13079\n",
            "\n",
            "   micro avg       0.98      0.98      0.98    364135\n",
            "   macro avg       0.85      0.82      0.84    364135\n",
            "weighted avg       0.98      0.98      0.98    364135\n",
            "\n"
          ],
          "name": "stdout"
        }
      ]
    },
    {
      "cell_type": "code",
      "metadata": {
        "id": "5xRNfsCgFqYI",
        "colab_type": "code",
        "colab": {}
      },
      "source": [
        ""
      ],
      "execution_count": 0,
      "outputs": []
    }
  ]
}